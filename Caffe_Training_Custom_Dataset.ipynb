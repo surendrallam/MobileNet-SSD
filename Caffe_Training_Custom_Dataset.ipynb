{
  "nbformat": 4,
  "nbformat_minor": 0,
  "metadata": {
    "colab": {
      "name": "Copy of Caffe_Training_Custom_Dataset",
      "provenance": [],
      "collapsed_sections": [],
      "mount_file_id": "11RPUOjpd_92sVC5Xy8VPl0EkwpwURk8j",
      "authorship_tag": "ABX9TyNKThtBFYQWNCqBG6N8OuLD",
      "include_colab_link": true
    },
    "kernelspec": {
      "name": "python3",
      "display_name": "Python 3"
    }
  },
  "cells": [
    {
      "cell_type": "markdown",
      "metadata": {
        "id": "view-in-github",
        "colab_type": "text"
      },
      "source": [
        "<a href=\"https://colab.research.google.com/github/surendrallam/MobileNet-SSD/blob/master/Caffe_Training_Custom_Dataset.ipynb\" target=\"_parent\"><img src=\"https://colab.research.google.com/assets/colab-badge.svg\" alt=\"Open In Colab\"/></a>"
      ]
    },
    {
      "cell_type": "markdown",
      "metadata": {
        "id": "fmTH8FTn_JHu"
      },
      "source": [
        "\n",
        "# Installing necessary dependencies.\n"
      ]
    },
    {
      "cell_type": "code",
      "metadata": {
        "id": "8Rq91aX36SO_"
      },
      "source": [
        "!apt-get install -y --no-install-recommends libboost-all-dev\n",
        "!apt-get install libprotobuf-dev libleveldb-dev libsnappy-dev libopencv-dev libboost-all-dev libhdf5-serial-dev \\\n",
        "libgflags-dev libgoogle-glog-dev liblmdb-dev protobuf-compiler "
      ],
      "execution_count": null,
      "outputs": []
    },
    {
      "cell_type": "markdown",
      "metadata": {
        "id": "4oH1t2UQ_IAm"
      },
      "source": [
        "\n",
        "#  Cloning Caffe"
      ]
    },
    {
      "cell_type": "code",
      "metadata": {
        "id": "Szsoyb9K4Fa5"
      },
      "source": [
        "!git clone https://github.com/weiliu89/caffe.git\n",
        "%cd caffe\n",
        "!git checkout ssd\n",
        "%cp Makefile.config.example Makefile.config"
      ],
      "execution_count": null,
      "outputs": []
    },
    {
      "cell_type": "markdown",
      "metadata": {
        "id": "82g9LQR8ADsN"
      },
      "source": [
        "# Installing necessary Python packages."
      ]
    },
    {
      "cell_type": "code",
      "metadata": {
        "id": "QPl5ixQc5ONl"
      },
      "source": [
        "!apt-get install python3-pip\n",
        "!pip install scikit-image protobuf\n",
        "%cd caffe/python\n",
        "!for req in $(cat requirements.txt); do pip install $req; done"
      ],
      "execution_count": null,
      "outputs": []
    },
    {
      "cell_type": "code",
      "metadata": {
        "colab": {
          "base_uri": "https://localhost:8080/"
        },
        "id": "d3LTA-UT6i1B",
        "outputId": "26f8f169-005f-4548-958d-76b8c46c9401"
      },
      "source": [
        "%cd /usr/lib/x86_64-linux-gnu/\n",
        "#%ls -al | grep \"libhdf5_serial\"\n",
        "!ln -s /usr/lib/x86_64-linux-gnu/libhdf5_serial.so.100.0.1 /usr/lib/x86_64-linux-gnu/libhdf5.so\n",
        "!ln -s /usr/lib/x86_64-linux-gnu/libhdf5_serial_hl.so.100.0.0 /usr/lib/x86_64-linux-gnu/libhdf5_hl.so"
      ],
      "execution_count": 6,
      "outputs": [
        {
          "output_type": "stream",
          "text": [
            "/usr/lib/x86_64-linux-gnu\n"
          ],
          "name": "stdout"
        }
      ]
    },
    {
      "cell_type": "code",
      "metadata": {
        "id": "4ic0uMAj7Ofz"
      },
      "source": [
        "%cd /content/caffe\n",
        "!make clean\n",
        "!make all\n",
        "# !make -j8\n",
        "!echo \"Done Make all\"\n"
      ],
      "execution_count": null,
      "outputs": []
    },
    {
      "cell_type": "code",
      "metadata": {
        "colab": {
          "base_uri": "https://localhost:8080/"
        },
        "id": "2c_1D0faFubc",
        "outputId": "d3879234-2fdb-4ddd-a761-e426c5182bce"
      },
      "source": [
        "#!make clean\n",
        "!make test\n",
        "!echo \"Done Make test\""
      ],
      "execution_count": 11,
      "outputs": [
        {
          "output_type": "stream",
          "text": [
            "CXX src/caffe/test/test_layer_factory.cpp\n",
            "CXX src/caffe/test/test_batch_reindex_layer.cpp\n",
            "CXX src/caffe/test/test_data_transformer.cpp\n",
            "CXX src/caffe/test/test_rnn_layer.cpp\n",
            "CXX src/caffe/test/test_sigmoid_cross_entropy_loss_layer.cpp\n",
            "CXX src/caffe/test/test_stochastic_pooling.cpp\n",
            "CXX src/caffe/test/test_io.cpp\n",
            "CXX src/caffe/test/test_blob.cpp\n",
            "CXX src/caffe/test/test_neuron_layer.cpp\n",
            "CXX src/caffe/test/test_common.cpp\n",
            "CXX src/caffe/test/test_slice_layer.cpp\n",
            "CXX src/caffe/test/test_prior_box_layer.cpp\n",
            "CXX src/caffe/test/test_mvn_layer.cpp\n",
            "CXX src/caffe/test/test_filter_layer.cpp\n",
            "CXX src/caffe/test/test_bias_layer.cpp\n",
            "CXX src/caffe/test/test_benchmark.cpp\n",
            "CXX src/caffe/test/test_contrastive_loss_layer.cpp\n",
            "CXX src/caffe/test/test_bbox_util.cpp\n",
            "CXX src/caffe/test/test_convolution_layer.cpp\n",
            "CXX src/caffe/test/test_data_layer.cpp\n",
            "CXX src/caffe/test/test_concat_layer.cpp\n",
            "CXX src/caffe/test/test_gradient_based_solver.cpp\n",
            "CXX src/caffe/test/test_math_functions.cpp\n",
            "CXX src/caffe/test/test_net.cpp\n",
            "CXX src/caffe/test/test_solver.cpp\n",
            "CXX src/caffe/test/test_split_layer.cpp\n",
            "CXX src/caffe/test/test_softmax_layer.cpp\n",
            "CXX src/caffe/test/test_power_layer.cpp\n",
            "CXX src/caffe/test/test_syncedmem.cpp\n",
            "CXX src/caffe/test/test_protobuf.cpp\n",
            "CXX src/caffe/test/test_eltwise_layer.cpp\n",
            "CXX src/caffe/test/test_im2col_layer.cpp\n",
            "CXX src/caffe/test/test_normalize_layer.cpp\n",
            "CXX src/caffe/test/test_maxpool_dropout_layers.cpp\n",
            "CXX src/caffe/test/test_threshold_layer.cpp\n",
            "CXX src/caffe/test/test_detection_output_layer.cpp\n",
            "CXX src/caffe/test/test_permute_layer.cpp\n",
            "CXX src/caffe/test/test_smooth_L1_loss_layer.cpp\n",
            "CXX src/caffe/test/test_crop_layer.cpp\n",
            "CXX src/caffe/test/test_scale_layer.cpp\n",
            "CXX src/caffe/test/test_argmax_layer.cpp\n",
            "CXX src/caffe/test/test_db.cpp\n",
            "CXX src/caffe/test/test_dummy_data_layer.cpp\n",
            "CXX src/caffe/test/test_inner_product_layer.cpp\n",
            "CXX src/caffe/test/test_memory_data_layer.cpp\n",
            "CXX src/caffe/test/test_infogain_loss_layer.cpp\n",
            "CXX src/caffe/test/test_image_data_layer.cpp\n",
            "CXX src/caffe/test/test_lrn_layer.cpp\n",
            "CXX src/caffe/test/test_internal_thread.cpp\n",
            "CXX src/caffe/test/test_deconvolution_layer.cpp\n",
            "CXX src/caffe/test/test_upgrade_proto.cpp\n",
            "CXX src/caffe/test/test_filler.cpp\n",
            "CXX src/caffe/test/test_platform.cpp\n",
            "CXX src/caffe/test/test_multinomial_logistic_loss_layer.cpp\n",
            "CXX src/caffe/test/test_spp_layer.cpp\n",
            "CXX src/caffe/test/test_hdf5_output_layer.cpp\n",
            "CXX src/caffe/test/test_im_transforms.cpp\n",
            "CXX src/caffe/test/test_softmax_with_loss_layer.cpp\n",
            "CXX src/caffe/test/test_detection_evaluate_layer.cpp\n",
            "CXX src/caffe/test/test_batch_norm_layer.cpp\n",
            "CXX src/caffe/test/test_tanh_layer.cpp\n",
            "CXX src/caffe/test/test_tile_layer.cpp\n",
            "CXX src/caffe/test/test_multibox_loss_layer.cpp\n",
            "CXX src/caffe/test/test_util_blas.cpp\n",
            "CXX src/caffe/test/test_lstm_layer.cpp\n",
            "CXX src/caffe/test/test_accuracy_layer.cpp\n",
            "CXX src/caffe/test/test_embed_layer.cpp\n",
            "CXX src/caffe/test/test_pooling_layer.cpp\n",
            "CXX src/caffe/test/test_reshape_layer.cpp\n",
            "CXX src/caffe/test/test_annotated_data_layer.cpp\n",
            "CXX src/caffe/test/test_hinge_loss_layer.cpp\n",
            "CXX src/caffe/test/test_flatten_layer.cpp\n",
            "CXX src/caffe/test/test_euclidean_loss_layer.cpp\n",
            "CXX src/caffe/test/test_hdf5data_layer.cpp\n",
            "CXX src/caffe/test/test_random_number_generator.cpp\n",
            "CXX src/caffe/test/test_reduction_layer.cpp\n",
            "CXX src/caffe/test/test_solver_factory.cpp\n",
            "NVCC src/caffe/test/test_im2col_kernel.cu\n",
            "CXX src/gtest/gtest-all.cpp\n",
            "CXX/LD -o .build_release/test/test_all.testbin src/caffe/test/test_caffe_main.cpp\n",
            "LD .build_release/src/caffe/test/test_layer_factory.o\n",
            "LD .build_release/src/caffe/test/test_batch_reindex_layer.o\n",
            "LD .build_release/src/caffe/test/test_data_transformer.o\n",
            "LD .build_release/src/caffe/test/test_rnn_layer.o\n",
            "LD .build_release/src/caffe/test/test_sigmoid_cross_entropy_loss_layer.o\n",
            "LD .build_release/src/caffe/test/test_stochastic_pooling.o\n",
            "LD .build_release/src/caffe/test/test_io.o\n",
            "LD .build_release/src/caffe/test/test_blob.o\n",
            "LD .build_release/src/caffe/test/test_neuron_layer.o\n",
            "LD .build_release/src/caffe/test/test_common.o\n",
            "LD .build_release/src/caffe/test/test_slice_layer.o\n",
            "LD .build_release/src/caffe/test/test_prior_box_layer.o\n",
            "LD .build_release/src/caffe/test/test_mvn_layer.o\n",
            "LD .build_release/src/caffe/test/test_filter_layer.o\n",
            "LD .build_release/src/caffe/test/test_bias_layer.o\n",
            "LD .build_release/src/caffe/test/test_benchmark.o\n",
            "LD .build_release/src/caffe/test/test_contrastive_loss_layer.o\n",
            "LD .build_release/src/caffe/test/test_bbox_util.o\n",
            "LD .build_release/src/caffe/test/test_convolution_layer.o\n",
            "LD .build_release/src/caffe/test/test_data_layer.o\n",
            "LD .build_release/src/caffe/test/test_concat_layer.o\n",
            "LD .build_release/src/caffe/test/test_gradient_based_solver.o\n",
            "LD .build_release/src/caffe/test/test_math_functions.o\n",
            "LD .build_release/src/caffe/test/test_net.o\n",
            "LD .build_release/src/caffe/test/test_solver.o\n",
            "LD .build_release/src/caffe/test/test_split_layer.o\n",
            "LD .build_release/src/caffe/test/test_softmax_layer.o\n",
            "LD .build_release/src/caffe/test/test_power_layer.o\n",
            "LD .build_release/src/caffe/test/test_syncedmem.o\n",
            "LD .build_release/src/caffe/test/test_protobuf.o\n",
            "LD .build_release/src/caffe/test/test_eltwise_layer.o\n",
            "LD .build_release/src/caffe/test/test_im2col_layer.o\n",
            "LD .build_release/src/caffe/test/test_normalize_layer.o\n",
            "LD .build_release/src/caffe/test/test_maxpool_dropout_layers.o\n",
            "LD .build_release/src/caffe/test/test_threshold_layer.o\n",
            "LD .build_release/src/caffe/test/test_detection_output_layer.o\n",
            "LD .build_release/src/caffe/test/test_permute_layer.o\n",
            "LD .build_release/src/caffe/test/test_smooth_L1_loss_layer.o\n",
            "LD .build_release/src/caffe/test/test_crop_layer.o\n",
            "LD .build_release/src/caffe/test/test_scale_layer.o\n",
            "LD .build_release/src/caffe/test/test_argmax_layer.o\n",
            "LD .build_release/src/caffe/test/test_db.o\n",
            "LD .build_release/src/caffe/test/test_dummy_data_layer.o\n",
            "LD .build_release/src/caffe/test/test_inner_product_layer.o\n",
            "LD .build_release/src/caffe/test/test_memory_data_layer.o\n",
            "LD .build_release/src/caffe/test/test_infogain_loss_layer.o\n",
            "LD .build_release/src/caffe/test/test_image_data_layer.o\n",
            "LD .build_release/src/caffe/test/test_lrn_layer.o\n",
            "LD .build_release/src/caffe/test/test_internal_thread.o\n",
            "LD .build_release/src/caffe/test/test_deconvolution_layer.o\n",
            "LD .build_release/src/caffe/test/test_upgrade_proto.o\n",
            "LD .build_release/src/caffe/test/test_filler.o\n",
            "LD .build_release/src/caffe/test/test_platform.o\n",
            "LD .build_release/src/caffe/test/test_multinomial_logistic_loss_layer.o\n",
            "LD .build_release/src/caffe/test/test_spp_layer.o\n",
            "LD .build_release/src/caffe/test/test_hdf5_output_layer.o\n",
            "LD .build_release/src/caffe/test/test_im_transforms.o\n",
            "LD .build_release/src/caffe/test/test_softmax_with_loss_layer.o\n",
            "LD .build_release/src/caffe/test/test_detection_evaluate_layer.o\n",
            "LD .build_release/src/caffe/test/test_batch_norm_layer.o\n",
            "LD .build_release/src/caffe/test/test_tanh_layer.o\n",
            "LD .build_release/src/caffe/test/test_tile_layer.o\n",
            "LD .build_release/src/caffe/test/test_multibox_loss_layer.o\n",
            "LD .build_release/src/caffe/test/test_util_blas.o\n",
            "LD .build_release/src/caffe/test/test_lstm_layer.o\n",
            "LD .build_release/src/caffe/test/test_accuracy_layer.o\n",
            "LD .build_release/src/caffe/test/test_embed_layer.o\n",
            "LD .build_release/src/caffe/test/test_pooling_layer.o\n",
            "LD .build_release/src/caffe/test/test_reshape_layer.o\n",
            "LD .build_release/src/caffe/test/test_annotated_data_layer.o\n",
            "LD .build_release/src/caffe/test/test_hinge_loss_layer.o\n",
            "LD .build_release/src/caffe/test/test_flatten_layer.o\n",
            "LD .build_release/src/caffe/test/test_euclidean_loss_layer.o\n",
            "LD .build_release/src/caffe/test/test_hdf5data_layer.o\n",
            "LD .build_release/src/caffe/test/test_random_number_generator.o\n",
            "LD .build_release/src/caffe/test/test_reduction_layer.o\n",
            "LD .build_release/src/caffe/test/test_solver_factory.o\n",
            "LD .build_release/cuda/src/caffe/test/test_im2col_kernel.o\n",
            "Done Make test\n"
          ],
          "name": "stdout"
        }
      ]
    },
    {
      "cell_type": "code",
      "metadata": {
        "id": "Rm9QbKBZFxKD"
      },
      "source": [
        "!make runtest\n",
        "!echo \"Done Make runtest\""
      ],
      "execution_count": null,
      "outputs": []
    },
    {
      "cell_type": "code",
      "metadata": {
        "id": "uVCNhhiKFzuE"
      },
      "source": [
        "!make pycaffe\n",
        "!echo \"Done Make pycaffe\""
      ],
      "execution_count": null,
      "outputs": []
    },
    {
      "cell_type": "code",
      "metadata": {
        "id": "4whEZizrC40S"
      },
      "source": [
        "%cd /content/MobileNet-SSD/\n",
        "!chmod +x train.sh\n",
        "!./train.sh"
      ],
      "execution_count": null,
      "outputs": []
    },
    {
      "cell_type": "code",
      "metadata": {
        "colab": {
          "base_uri": "https://localhost:8080/"
        },
        "id": "GkLx8lSRfS0u",
        "outputId": "bdfab7c6-5899-4562-8305-e4b3a4a92f90"
      },
      "source": [
        "from google.colab import drive\n",
        "drive.mount('/content/gdrive')\n",
        "!echo \"Mounted Google Drive\""
      ],
      "execution_count": 1,
      "outputs": [
        {
          "output_type": "stream",
          "text": [
            "Mounted at /content/gdrive\n",
            "Mounted Google Drive\n"
          ],
          "name": "stdout"
        }
      ]
    },
    {
      "cell_type": "code",
      "metadata": {
        "id": "EbssM6w79e67"
      },
      "source": [
        "# Copying caffe directory from G-Drive\n",
        "!cp -r /content/gdrive/MyDrive/caffe /content/"
      ],
      "execution_count": 2,
      "outputs": []
    },
    {
      "cell_type": "code",
      "metadata": {
        "id": "6ZrWEl8N9TXG"
      },
      "source": [
        "# Copying caffe directory to G-Drive\n",
        "!cp -r /content/caffe /content/gdrive/MyDrive/"
      ],
      "execution_count": null,
      "outputs": []
    },
    {
      "cell_type": "code",
      "metadata": {
        "colab": {
          "base_uri": "https://localhost:8080/"
        },
        "id": "GH7oBrrjfxtL",
        "outputId": "c90c27ba-84b5-4ce8-cc03-be6a1e736dbd"
      },
      "source": [
        "!cp -r caffe/ /content/gdrive/"
      ],
      "execution_count": 31,
      "outputs": [
        {
          "output_type": "stream",
          "text": [
            "cp: cannot stat 'caffe/': No such file or directory\n"
          ],
          "name": "stdout"
        }
      ]
    },
    {
      "cell_type": "markdown",
      "metadata": {
        "id": "CbJicNWTGXFN"
      },
      "source": [
        "# Reference:\n",
        "* https://askubuntu.com/questions/960238/nvcc-fatal-unsupported-gpu-architecture-compute-20\n",
        "* https://stackoverflow.com/questions/37007495/caffe-didnt-see-hdf5-h-when-compiling/44912342\n",
        "* https://github.com/BVLC/caffe/issues/4621#issuecomment-243124779\n",
        "* https://colab.research.google.com/github/Huxwell/caffe-colab/blob/main/caffe_details.ipynb#scrollTo=TpMhijZ6-9hy\n",
        "* https://filip-drapejkowski.medium.com/caffe-in-google-colab-2021-2d730989c849"
      ]
    }
  ]
}